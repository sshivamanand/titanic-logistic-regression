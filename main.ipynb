{
 "cells": [
  {
   "cell_type": "code",
   "execution_count": 37,
   "id": "5cf6bb72",
   "metadata": {},
   "outputs": [],
   "source": [
    "import pandas as pd\n",
    "import numpy as np\n",
    "import matplotlib.pyplot as plt\n",
    "from sklearn.linear_model import LogisticRegression\n",
    "\n",
    "train_df = pd.read_csv('train.csv')"
   ]
  },
  {
   "cell_type": "code",
   "execution_count": 38,
   "id": "921d2837",
   "metadata": {},
   "outputs": [
    {
     "name": "stdout",
     "output_type": "stream",
     "text": [
      "Survival count :\n",
      "Survived\n",
      "0    549\n",
      "1    342\n",
      "Name: count, dtype: int64\n"
     ]
    }
   ],
   "source": [
    "# Survival distribution\n",
    "\n",
    "print(\"Survival count :\")\n",
    "print(train_df['Survived'].value_counts())"
   ]
  },
  {
   "cell_type": "code",
   "execution_count": 39,
   "id": "9258e22e",
   "metadata": {},
   "outputs": [
    {
     "name": "stdout",
     "output_type": "stream",
     "text": [
      "Survival rate by sex:\n",
      "Sex\n",
      "female    0.742038\n",
      "male      0.188908\n",
      "Name: Survived, dtype: float64\n"
     ]
    }
   ],
   "source": [
    "# Survival based on gender\n",
    "\n",
    "print(\"Survival rate by sex:\")\n",
    "print(train_df.groupby('Sex')['Survived'].mean())"
   ]
  },
  {
   "cell_type": "code",
   "execution_count": 42,
   "id": "78e7e091",
   "metadata": {},
   "outputs": [
    {
     "name": "stderr",
     "output_type": "stream",
     "text": [
      "C:\\Users\\sshiv\\AppData\\Local\\Temp\\ipykernel_19232\\1238937020.py:2: FutureWarning: A value is trying to be set on a copy of a DataFrame or Series through chained assignment using an inplace method.\n",
      "The behavior will change in pandas 3.0. This inplace method will never work because the intermediate object on which we are setting values always behaves as a copy.\n",
      "\n",
      "For example, when doing 'df[col].method(value, inplace=True)', try using 'df.method({col: value}, inplace=True)' or df[col] = df[col].method(value) instead, to perform the operation inplace on the original object.\n",
      "\n",
      "\n",
      "  train_df['Age'].fillna(train_df['Age'].median(), inplace=True)\n",
      "C:\\Users\\sshiv\\AppData\\Local\\Temp\\ipykernel_19232\\1238937020.py:3: FutureWarning: A value is trying to be set on a copy of a DataFrame or Series through chained assignment using an inplace method.\n",
      "The behavior will change in pandas 3.0. This inplace method will never work because the intermediate object on which we are setting values always behaves as a copy.\n",
      "\n",
      "For example, when doing 'df[col].method(value, inplace=True)', try using 'df.method({col: value}, inplace=True)' or df[col] = df[col].method(value) instead, to perform the operation inplace on the original object.\n",
      "\n",
      "\n",
      "  train_df['Embarked'].fillna(train_df['Embarked'].mode()[0], inplace=True)\n",
      "C:\\Users\\sshiv\\AppData\\Local\\Temp\\ipykernel_19232\\1238937020.py:5: FutureWarning: A value is trying to be set on a copy of a DataFrame or Series through chained assignment using an inplace method.\n",
      "The behavior will change in pandas 3.0. This inplace method will never work because the intermediate object on which we are setting values always behaves as a copy.\n",
      "\n",
      "For example, when doing 'df[col].method(value, inplace=True)', try using 'df.method({col: value}, inplace=True)' or df[col] = df[col].method(value) instead, to perform the operation inplace on the original object.\n",
      "\n",
      "\n",
      "  test_df['Age'].fillna(test_df['Age'].median(), inplace=True)\n",
      "C:\\Users\\sshiv\\AppData\\Local\\Temp\\ipykernel_19232\\1238937020.py:6: FutureWarning: A value is trying to be set on a copy of a DataFrame or Series through chained assignment using an inplace method.\n",
      "The behavior will change in pandas 3.0. This inplace method will never work because the intermediate object on which we are setting values always behaves as a copy.\n",
      "\n",
      "For example, when doing 'df[col].method(value, inplace=True)', try using 'df.method({col: value}, inplace=True)' or df[col] = df[col].method(value) instead, to perform the operation inplace on the original object.\n",
      "\n",
      "\n",
      "  test_df['Fare'].fillna(test_df['Fare'].median(), inplace=True)\n",
      "C:\\Users\\sshiv\\AppData\\Local\\Temp\\ipykernel_19232\\1238937020.py:7: FutureWarning: A value is trying to be set on a copy of a DataFrame or Series through chained assignment using an inplace method.\n",
      "The behavior will change in pandas 3.0. This inplace method will never work because the intermediate object on which we are setting values always behaves as a copy.\n",
      "\n",
      "For example, when doing 'df[col].method(value, inplace=True)', try using 'df.method({col: value}, inplace=True)' or df[col] = df[col].method(value) instead, to perform the operation inplace on the original object.\n",
      "\n",
      "\n",
      "  test_df['Embarked'].fillna(test_df['Embarked'].mode()[0], inplace=True)\n"
     ]
    }
   ],
   "source": [
    "# Fill missing values\n",
    "train_df['Age'].fillna(train_df['Age'].median(), inplace=True)\n",
    "train_df['Embarked'].fillna(train_df['Embarked'].mode()[0], inplace=True)\n",
    "\n",
    "test_df['Age'].fillna(test_df['Age'].median(), inplace=True)\n",
    "test_df['Fare'].fillna(test_df['Fare'].median(), inplace=True)\n",
    "test_df['Embarked'].fillna(test_df['Embarked'].mode()[0], inplace=True)\n",
    "\n",
    "# Encode categories\n",
    "train_df['Sex'] = train_df['Sex'].map({'male': 0, 'female': 1})\n",
    "train_df['Embarked'] = train_df['Embarked'].map({'S': 0, 'C': 1, 'Q': 2})\n",
    "test_df['Sex'] = test_df['Sex'].map({'male': 0, 'female': 1})\n",
    "test_df['Embarked'] = test_df['Embarked'].map({'S': 0, 'C': 1, 'Q': 2})\n"
   ]
  },
  {
   "cell_type": "code",
   "execution_count": 43,
   "id": "1c95d6d3",
   "metadata": {},
   "outputs": [],
   "source": [
    "# Features and labels\n",
    "features = ['Pclass', 'Sex', 'Age', 'SibSp', 'Parch', 'Fare', 'Embarked']\n",
    "target = 'Survived'\n",
    "\n",
    "X = train_df[features].values\n",
    "y = train_df[target].values\n",
    "\n",
    "X_test = test_df[features].values\n"
   ]
  },
  {
   "cell_type": "code",
   "execution_count": 44,
   "id": "91ca0ed4",
   "metadata": {},
   "outputs": [],
   "source": [
    "# Feature scaling (mean normalization)\n",
    "def feature_normalize(X):\n",
    "    mu = np.mean(X, axis=0)\n",
    "    sigma = np.std(X, axis=0)\n",
    "    X_norm = (X - mu) / sigma\n",
    "    return X_norm, mu, sigma\n",
    "\n",
    "X_norm, mu, sigma = feature_normalize(X)\n",
    "X_test_norm = (X_test - mu) / sigma\n"
   ]
  },
  {
   "cell_type": "code",
   "execution_count": 45,
   "id": "90a216c9",
   "metadata": {},
   "outputs": [],
   "source": [
    "# Featuer Mapping\n",
    "\n",
    "def linear_features(X):\n",
    "    return X\n",
    "\n",
    "def polynomial_features(X, degree=2):\n",
    "    X_poly = X.copy()\n",
    "    for i in range(X.shape[1]):\n",
    "        for d in range(2, degree + 1):\n",
    "            X_poly = np.hstack((X_poly, (X[:, i] ** d).reshape(-1, 1)))\n",
    "    return X_poly\n",
    "\n",
    "X_final = polynomial_features(X_norm, degree=2)\n",
    "X_test_final = polynomial_features(X_test_norm, degree=2)"
   ]
  },
  {
   "cell_type": "code",
   "execution_count": 46,
   "id": "01578cf8",
   "metadata": {},
   "outputs": [
    {
     "name": "stdout",
     "output_type": "stream",
     "text": [
      "Lambda: 0.01, Cost: 0.4303\n",
      "Lambda: 0.10, Cost: 0.4303\n",
      "Lambda: 0.30, Cost: 0.4303\n",
      "Lambda: 1.00, Cost: 0.4303\n",
      "Lambda: 3.00, Cost: 0.4305\n",
      "Lambda: 10.00, Cost: 0.4318\n"
     ]
    }
   ],
   "source": [
    "# Logistic cost function\n",
    "\n",
    "def compute_cost(y, probs):\n",
    "    eps = 1e-15\n",
    "    probs = np.clip(probs, eps, 1 - eps)\n",
    "    return -np.mean(y * np.log(probs) + (1 - y) * np.log(1 - probs))\n",
    "\n",
    "lambdas = [0.01, 0.1, 0.3, 1, 3, 10]\n",
    "costs = []\n",
    "\n",
    "for lam in lambdas:\n",
    "    C_val = 1 / lam\n",
    "    model = LogisticRegression(C=C_val, max_iter=1000)\n",
    "    model.fit(X_final, y)\n",
    "    probs = model.predict_proba(X_final)[:, 1]\n",
    "    cost = compute_cost(y, probs)\n",
    "    costs.append(cost)\n",
    "    print(f\"Lambda: {lam:.2f}, Cost: {cost:.4f}\")"
   ]
  },
  {
   "cell_type": "code",
   "execution_count": 47,
   "id": "3f503924",
   "metadata": {},
   "outputs": [],
   "source": [
    "# Sigmoid and Cost\n",
    "\n",
    "def sigmoid(z):\n",
    "    return 1 / (1 + np.exp(-z))\n",
    "\n",
    "def compute_cost(X, y, theta, lam=0):\n",
    "    m = len(y)\n",
    "    h = sigmoid(X @ theta)\n",
    "    h = np.clip(h, 1e-15, 1 - 1e-15)\n",
    "    cost = (-1/m) * (y.T @ np.log(h) + (1 - y).T @ np.log(1 - h))\n",
    "    reg = (lam / (2 * m)) * np.sum(theta[1:] ** 2)\n",
    "    return cost + reg\n"
   ]
  },
  {
   "cell_type": "code",
   "execution_count": 48,
   "id": "6bd428fa",
   "metadata": {},
   "outputs": [],
   "source": [
    "# Run Gradient Descent\n",
    "\n",
    "def gradient_descent(X, y, alpha=0.01, lam=0.1, num_iters=500):\n",
    "    m, n = X.shape\n",
    "    theta = np.zeros(n)\n",
    "    cost_history = []\n",
    "\n",
    "    for i in range(num_iters):\n",
    "        h = sigmoid(X @ theta)\n",
    "        error = h - y\n",
    "        grad = (1/m) * (X.T @ error)\n",
    "        grad[1:] += (lam/m) * theta[1:]  \n",
    "        theta -= alpha * grad\n",
    "        cost = compute_cost(X, y, theta, lam)\n",
    "        cost_history.append(cost)\n",
    "\n",
    "    return theta, cost_history\n"
   ]
  },
  {
   "cell_type": "code",
   "execution_count": 49,
   "id": "174deaa8",
   "metadata": {},
   "outputs": [
    {
     "data": {
      "image/png": "[encoded data removed]",
      "text/plain": [
       "<Figure size 800x500 with 1 Axes>"
      ]
     },
     "metadata": {},
     "output_type": "display_data"
    }
   ],
   "source": [
    "X_gd = np.hstack([np.ones((X_final.shape[0], 1)), X_final])\n",
    "theta, cost_history = gradient_descent(X_gd, y, alpha=0.1, lam=0.3, num_iters=500)\n",
    "\n",
    "plt.figure(figsize=(8, 5))\n",
    "plt.plot(range(len(cost_history)), cost_history)\n",
    "plt.xlabel(\"Iterations\")\n",
    "plt.ylabel(\"Cost\")\n",
    "plt.title(\"Cost vs Iterations (Gradient Descent)\")\n",
    "plt.show()"
   ]
  },
  {
   "cell_type": "code",
   "execution_count": 50,
   "id": "c4186424",
   "metadata": {},
   "outputs": [
    {
     "name": "stdout",
     "output_type": "stream",
     "text": [
      "Survival Probability: 0.6485\n",
      " Prediction: Survived\n"
     ]
    }
   ],
   "source": [
    "# --- Manually set passenger features ---\n",
    "\n",
    "pclass = 3           # 1, 2, or 3\n",
    "sex = 'female'       # 'male' or 'female'\n",
    "age = 22.0           # float\n",
    "sibsp = 1            # int\n",
    "parch = 0            # int\n",
    "fare = 7.25          # float\n",
    "embarked = 'S'       # 'S', 'C', or 'Q'\n",
    "\n",
    "# --- Preprocess input ---\n",
    "sex = 0 if sex == 'male' else 1\n",
    "embarked_map = {'S': 0, 'C': 1, 'Q': 2}\n",
    "embarked = embarked_map.get(embarked, 0)  # default to 0 if invalid\n",
    "\n",
    "x_raw = np.array([[pclass, sex, age, sibsp, parch, fare, embarked]])\n",
    "x_norm = (x_raw - mu) / sigma\n",
    "x_poly = polynomial_features(x_norm, degree=2)\n",
    "\n",
    "x_input = np.hstack([np.ones((1, 1)), x_poly])\n",
    "\n",
    "prob = sigmoid(x_input @ theta)[0]\n",
    "prediction = 1 if prob >= 0.5 else 0\n",
    "\n",
    "print(f\"Survival Probability: {prob:.4f}\")\n",
    "print(\" Prediction:\", \"Survived\" if prediction == 1 else \"Did NOT Survive\")\n"
   ]
  }
 ],
 "metadata": {
  "kernelspec": {
   "display_name": "Python 3",
   "language": "python",
   "name": "python3"
  },
  "language_info": {
   "codemirror_mode": {
    "name": "ipython",
    "version": 3
   },
   "file_extension": ".py",
   "mimetype": "text/x-python",
   "name": "python",
   "nbconvert_exporter": "python",
   "pygments_lexer": "ipython3",
   "version": "3.13.2"
  }
 },
 "nbformat": 4,
 "nbformat_minor": 5
}
